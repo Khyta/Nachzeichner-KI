{
 "cells": [
  {
   "cell_type": "markdown",
   "metadata": {},
   "source": [
    "YT Vid: https://www.youtube.com/watch?v=cO5g5qLrLSo"
   ]
  },
  {
   "cell_type": "markdown",
   "metadata": {},
   "source": [
    "# Import Libs"
   ]
  },
  {
   "cell_type": "code",
   "execution_count": 2,
   "metadata": {},
   "outputs": [],
   "source": [
    "import random\n",
    "import gym"
   ]
  },
  {
   "cell_type": "code",
   "execution_count": 3,
   "metadata": {},
   "outputs": [
    {
     "name": "stderr",
     "output_type": "stream",
     "text": [
      "c:\\GitHub\\Nachzeichner-KI\\env\\lib\\site-packages\\gym\\envs\\registration.py:505: UserWarning: \u001b[33mWARN: The environment CartPole-v0 is out of date. You should consider upgrading to version `v1` with the environment ID `CartPole-v1`.\u001b[0m\n",
      "  logger.warn(\n"
     ]
    }
   ],
   "source": [
    "env = gym.make(\"CartPole-v0\")\n",
    "states = env.observation_space.shape[0]\n",
    "actions = env.action_space.n"
   ]
  },
  {
   "cell_type": "code",
   "execution_count": 4,
   "metadata": {},
   "outputs": [
    {
     "data": {
      "text/plain": [
       "4"
      ]
     },
     "execution_count": 4,
     "metadata": {},
     "output_type": "execute_result"
    }
   ],
   "source": [
    "states"
   ]
  },
  {
   "cell_type": "code",
   "execution_count": 30,
   "metadata": {},
   "outputs": [
    {
     "data": {
      "text/plain": [
       "['__annotations__',\n",
       " '__class__',\n",
       " '__class_getitem__',\n",
       " '__delattr__',\n",
       " '__dict__',\n",
       " '__dir__',\n",
       " '__doc__',\n",
       " '__enter__',\n",
       " '__eq__',\n",
       " '__exit__',\n",
       " '__format__',\n",
       " '__ge__',\n",
       " '__getattr__',\n",
       " '__getattribute__',\n",
       " '__gt__',\n",
       " '__hash__',\n",
       " '__init__',\n",
       " '__init_subclass__',\n",
       " '__le__',\n",
       " '__lt__',\n",
       " '__module__',\n",
       " '__ne__',\n",
       " '__new__',\n",
       " '__orig_bases__',\n",
       " '__parameters__',\n",
       " '__reduce__',\n",
       " '__reduce_ex__',\n",
       " '__repr__',\n",
       " '__setattr__',\n",
       " '__sizeof__',\n",
       " '__slots__',\n",
       " '__str__',\n",
       " '__subclasshook__',\n",
       " '__weakref__',\n",
       " '_action_space',\n",
       " '_elapsed_steps',\n",
       " '_is_protocol',\n",
       " '_max_episode_steps',\n",
       " '_metadata',\n",
       " '_np_random',\n",
       " '_observation_space',\n",
       " '_reward_range',\n",
       " 'action_space',\n",
       " 'class_name',\n",
       " 'close',\n",
       " 'env',\n",
       " 'metadata',\n",
       " 'np_random',\n",
       " 'observation_space',\n",
       " 'render',\n",
       " 'reset',\n",
       " 'reward_range',\n",
       " 'seed',\n",
       " 'spec',\n",
       " 'step',\n",
       " 'unwrapped']"
      ]
     },
     "execution_count": 30,
     "metadata": {},
     "output_type": "execute_result"
    }
   ],
   "source": [
    "dir(env)"
   ]
  },
  {
   "cell_type": "code",
   "execution_count": 5,
   "metadata": {},
   "outputs": [
    {
     "data": {
      "text/plain": [
       "2"
      ]
     },
     "execution_count": 5,
     "metadata": {},
     "output_type": "execute_result"
    }
   ],
   "source": [
    "actions"
   ]
  },
  {
   "cell_type": "markdown",
   "metadata": {},
   "source": [
    "### Random actions"
   ]
  },
  {
   "cell_type": "code",
   "execution_count": 6,
   "metadata": {},
   "outputs": [
    {
     "name": "stdout",
     "output_type": "stream",
     "text": [
      "Episode 1 Score: 23.0\n",
      "Episode 2 Score: 27.0\n",
      "Episode 3 Score: 23.0\n",
      "Episode 4 Score: 10.0\n",
      "Episode 5 Score: 15.0\n",
      "Episode 6 Score: 29.0\n",
      "Episode 7 Score: 39.0\n",
      "Episode 8 Score: 10.0\n",
      "Episode 9 Score: 15.0\n",
      "Episode 10 Score: 29.0\n"
     ]
    }
   ],
   "source": [
    "episodes = 10\n",
    "for episode in range(1, episodes+1):\n",
    "    state = env.reset()\n",
    "    done = False\n",
    "    score = 0\n",
    "    \n",
    "    while not done:\n",
    "        env.render()\n",
    "        action = random.choice([0, 1])\n",
    "        n_state, reward, done, info = env.step(action)\n",
    "        score += reward\n",
    "    print(f\"Episode {episode} Score: {score}\")"
   ]
  },
  {
   "cell_type": "markdown",
   "metadata": {},
   "source": [
    "## Deep Learning Model with reinforcement learning"
   ]
  },
  {
   "cell_type": "code",
   "execution_count": 6,
   "metadata": {},
   "outputs": [],
   "source": [
    "import numpy as np\n",
    "from tensorflow.keras.models import Sequential\n",
    "from tensorflow.keras.layers import Dense, Flatten\n",
    "from tensorflow.keras.optimizers import Adam"
   ]
  },
  {
   "cell_type": "code",
   "execution_count": 14,
   "metadata": {},
   "outputs": [],
   "source": [
    "def build_model(states, actions):\n",
    "    model = Sequential()\n",
    "    model.add(Flatten(input_shape=(1,states)))\n",
    "    model.add(Dense(24, activation=\"relu\"))\n",
    "    model.add(Dense(24, activation=\"relu\"))\n",
    "    model.add(Dense(actions, activation=\"linear\"))\n",
    "    return model"
   ]
  },
  {
   "cell_type": "code",
   "execution_count": 15,
   "metadata": {},
   "outputs": [],
   "source": [
    "model = build_model(states, actions)"
   ]
  },
  {
   "cell_type": "code",
   "execution_count": 16,
   "metadata": {},
   "outputs": [
    {
     "name": "stdout",
     "output_type": "stream",
     "text": [
      "Model: \"sequential_1\"\n",
      "_________________________________________________________________\n",
      " Layer (type)                Output Shape              Param #   \n",
      "=================================================================\n",
      " flatten_1 (Flatten)         (None, 4)                 0         \n",
      "                                                                 \n",
      " dense_3 (Dense)             (None, 24)                120       \n",
      "                                                                 \n",
      " dense_4 (Dense)             (None, 24)                600       \n",
      "                                                                 \n",
      " dense_5 (Dense)             (None, 2)                 50        \n",
      "                                                                 \n",
      "=================================================================\n",
      "Total params: 770\n",
      "Trainable params: 770\n",
      "Non-trainable params: 0\n",
      "_________________________________________________________________\n"
     ]
    }
   ],
   "source": [
    "model.summary()"
   ]
  },
  {
   "cell_type": "markdown",
   "metadata": {},
   "source": [
    "## Reinforcementlearning agent"
   ]
  },
  {
   "cell_type": "code",
   "execution_count": 1,
   "metadata": {},
   "outputs": [
    {
     "name": "stdout",
     "output_type": "stream",
     "text": [
      "Unexpected exception formatting exception. Falling back to standard exception\n"
     ]
    },
    {
     "name": "stderr",
     "output_type": "stream",
     "text": [
      "Traceback (most recent call last):\n",
      "  File \"c:\\GitHub\\Nachzeichner-KI\\env\\lib\\site-packages\\IPython\\core\\interactiveshell.py\", line 3369, in run_code\n",
      "  File \"C:\\Users\\wasse\\AppData\\Local\\Temp\\ipykernel_23456\\2148453933.py\", line 1, in <cell line: 1>\n",
      "    from rl.agents import DQNAgent\n",
      "ModuleNotFoundError: No module named 'rl'\n",
      "\n",
      "During handling of the above exception, another exception occurred:\n",
      "\n",
      "Traceback (most recent call last):\n",
      "  File \"c:\\GitHub\\Nachzeichner-KI\\env\\lib\\site-packages\\pygments\\styles\\__init__.py\", line 78, in get_style_by_name\n",
      "ModuleNotFoundError: No module named 'pygments.styles.default'\n",
      "\n",
      "During handling of the above exception, another exception occurred:\n",
      "\n",
      "Traceback (most recent call last):\n",
      "  File \"c:\\GitHub\\Nachzeichner-KI\\env\\lib\\site-packages\\IPython\\core\\interactiveshell.py\", line 1982, in showtraceback\n",
      "  File \"c:\\GitHub\\Nachzeichner-KI\\env\\lib\\site-packages\\IPython\\core\\ultratb.py\", line 1118, in structured_traceback\n",
      "  File \"c:\\GitHub\\Nachzeichner-KI\\env\\lib\\site-packages\\IPython\\core\\ultratb.py\", line 1012, in structured_traceback\n",
      "  File \"c:\\GitHub\\Nachzeichner-KI\\env\\lib\\site-packages\\IPython\\core\\ultratb.py\", line 865, in structured_traceback\n",
      "  File \"c:\\GitHub\\Nachzeichner-KI\\env\\lib\\site-packages\\IPython\\core\\ultratb.py\", line 799, in format_exception_as_a_whole\n",
      "  File \"c:\\GitHub\\Nachzeichner-KI\\env\\lib\\site-packages\\IPython\\core\\ultratb.py\", line 844, in get_records\n",
      "  File \"c:\\GitHub\\Nachzeichner-KI\\env\\lib\\site-packages\\pygments\\styles\\__init__.py\", line 80, in get_style_by_name\n",
      "pygments.util.ClassNotFound: Could not find style module 'default', though it should be builtin.\n"
     ]
    }
   ],
   "source": [
    "from rl.agents import DQNAgent\n",
    "from rl.policy import BoltzmannQPolicy\n",
    "from rl.memory import SequentialMemory"
   ]
  },
  {
   "cell_type": "code",
   "execution_count": 31,
   "metadata": {},
   "outputs": [],
   "source": [
    "def build_agent(model, actions):\n",
    "    policy = BoltzmannQPolicy()\n",
    "    memory = SequentialMemory(limit=50000, window_length=1)\n",
    "    dqn = DQNAgent(model=model, memory=memory, policy=policy, nb_actions=actions, nb_steps_warmup=10, target_model_update=1e-2)\n",
    "    \n",
    "    return dqn"
   ]
  },
  {
   "cell_type": "markdown",
   "metadata": {},
   "source": [
    "^^ Erstellt einen Deep Q Network Agent (wahrscheinlich Deep Q-Learning) (DQN).\n",
    "\n",
    "Dabei wird die BoltzmannQPolicy verwendet, als Regelset für die Entscheidung, welche Action genutzt werden soll.\n",
    "\n",
    "Die Memory ist wahrscheinlich ein Speichercontainer für den Agent. Die Agents können angeblich sehr viel RAM fressen."
   ]
  },
  {
   "cell_type": "code",
   "execution_count": 32,
   "metadata": {},
   "outputs": [
    {
     "name": "stderr",
     "output_type": "stream",
     "text": [
      "c:\\GitHub\\Nachzeichner-KI\\env\\lib\\site-packages\\keras\\optimizer_v2\\adam.py:105: UserWarning: The `lr` argument is deprecated, use `learning_rate` instead.\n",
      "  super(Adam, self).__init__(name, **kwargs)\n"
     ]
    },
    {
     "name": "stdout",
     "output_type": "stream",
     "text": [
      "Training for 1000 steps ...\n",
      "Interval 1 (0 steps performed)\n",
      "    1/10000 [..............................] - ETA: 16:35 - reward: 1.0000"
     ]
    },
    {
     "name": "stderr",
     "output_type": "stream",
     "text": [
      "c:\\GitHub\\Nachzeichner-KI\\env\\lib\\site-packages\\keras\\engine\\training_v1.py:2079: UserWarning: `Model.state_updates` will be removed in a future version. This property should not be used in TensorFlow 2.0, as `updates` are applied automatically.\n",
      "  updates=self.state_updates,\n",
      "c:\\GitHub\\Nachzeichner-KI\\env\\lib\\site-packages\\rl\\memory.py:37: UserWarning: Not enough entries to sample without replacement. Consider increasing your warm-up phase to avoid oversampling!\n",
      "  warnings.warn('Not enough entries to sample without replacement. Consider increasing your warm-up phase to avoid oversampling!')\n",
      "c:\\GitHub\\Nachzeichner-KI\\env\\lib\\site-packages\\rl\\memory.py:38: DeprecationWarning: This function is deprecated. Please call randint(1, 10 + 1) instead\n",
      "  batch_idxs = np.random.random_integers(low, high - 1, size=size)\n"
     ]
    },
    {
     "name": "stdout",
     "output_type": "stream",
     "text": [
      "   21/10000 [..............................] - ETA: 5:42 - reward: 1.0000"
     ]
    },
    {
     "name": "stderr",
     "output_type": "stream",
     "text": [
      "c:\\GitHub\\Nachzeichner-KI\\env\\lib\\site-packages\\rl\\memory.py:38: DeprecationWarning: This function is deprecated. Please call randint(1, 11 + 1) instead\n",
      "  batch_idxs = np.random.random_integers(low, high - 1, size=size)\n",
      "c:\\GitHub\\Nachzeichner-KI\\env\\lib\\site-packages\\rl\\memory.py:38: DeprecationWarning: This function is deprecated. Please call randint(1, 12 + 1) instead\n",
      "  batch_idxs = np.random.random_integers(low, high - 1, size=size)\n",
      "c:\\GitHub\\Nachzeichner-KI\\env\\lib\\site-packages\\rl\\memory.py:38: DeprecationWarning: This function is deprecated. Please call randint(1, 13 + 1) instead\n",
      "  batch_idxs = np.random.random_integers(low, high - 1, size=size)\n",
      "c:\\GitHub\\Nachzeichner-KI\\env\\lib\\site-packages\\rl\\memory.py:38: DeprecationWarning: This function is deprecated. Please call randint(1, 14 + 1) instead\n",
      "  batch_idxs = np.random.random_integers(low, high - 1, size=size)\n",
      "c:\\GitHub\\Nachzeichner-KI\\env\\lib\\site-packages\\rl\\memory.py:38: DeprecationWarning: This function is deprecated. Please call randint(1, 15 + 1) instead\n",
      "  batch_idxs = np.random.random_integers(low, high - 1, size=size)\n",
      "c:\\GitHub\\Nachzeichner-KI\\env\\lib\\site-packages\\rl\\memory.py:38: DeprecationWarning: This function is deprecated. Please call randint(1, 16 + 1) instead\n",
      "  batch_idxs = np.random.random_integers(low, high - 1, size=size)\n",
      "c:\\GitHub\\Nachzeichner-KI\\env\\lib\\site-packages\\rl\\memory.py:38: DeprecationWarning: This function is deprecated. Please call randint(1, 17 + 1) instead\n",
      "  batch_idxs = np.random.random_integers(low, high - 1, size=size)\n",
      "c:\\GitHub\\Nachzeichner-KI\\env\\lib\\site-packages\\rl\\memory.py:38: DeprecationWarning: This function is deprecated. Please call randint(1, 18 + 1) instead\n",
      "  batch_idxs = np.random.random_integers(low, high - 1, size=size)\n",
      "c:\\GitHub\\Nachzeichner-KI\\env\\lib\\site-packages\\rl\\memory.py:38: DeprecationWarning: This function is deprecated. Please call randint(1, 19 + 1) instead\n",
      "  batch_idxs = np.random.random_integers(low, high - 1, size=size)\n"
     ]
    },
    {
     "name": "stdout",
     "output_type": "stream",
     "text": [
      "   31/10000 [..............................] - ETA: 4:51 - reward: 1.0000"
     ]
    },
    {
     "name": "stderr",
     "output_type": "stream",
     "text": [
      "c:\\GitHub\\Nachzeichner-KI\\env\\lib\\site-packages\\rl\\memory.py:38: DeprecationWarning: This function is deprecated. Please call randint(1, 20 + 1) instead\n",
      "  batch_idxs = np.random.random_integers(low, high - 1, size=size)\n",
      "c:\\GitHub\\Nachzeichner-KI\\env\\lib\\site-packages\\rl\\memory.py:38: DeprecationWarning: This function is deprecated. Please call randint(1, 21 + 1) instead\n",
      "  batch_idxs = np.random.random_integers(low, high - 1, size=size)\n",
      "c:\\GitHub\\Nachzeichner-KI\\env\\lib\\site-packages\\rl\\memory.py:38: DeprecationWarning: This function is deprecated. Please call randint(1, 22 + 1) instead\n",
      "  batch_idxs = np.random.random_integers(low, high - 1, size=size)\n",
      "c:\\GitHub\\Nachzeichner-KI\\env\\lib\\site-packages\\rl\\memory.py:38: DeprecationWarning: This function is deprecated. Please call randint(1, 23 + 1) instead\n",
      "  batch_idxs = np.random.random_integers(low, high - 1, size=size)\n",
      "c:\\GitHub\\Nachzeichner-KI\\env\\lib\\site-packages\\rl\\memory.py:38: DeprecationWarning: This function is deprecated. Please call randint(1, 24 + 1) instead\n",
      "  batch_idxs = np.random.random_integers(low, high - 1, size=size)\n",
      "c:\\GitHub\\Nachzeichner-KI\\env\\lib\\site-packages\\rl\\memory.py:38: DeprecationWarning: This function is deprecated. Please call randint(1, 25 + 1) instead\n",
      "  batch_idxs = np.random.random_integers(low, high - 1, size=size)\n",
      "c:\\GitHub\\Nachzeichner-KI\\env\\lib\\site-packages\\rl\\memory.py:38: DeprecationWarning: This function is deprecated. Please call randint(1, 26 + 1) instead\n",
      "  batch_idxs = np.random.random_integers(low, high - 1, size=size)\n",
      "c:\\GitHub\\Nachzeichner-KI\\env\\lib\\site-packages\\rl\\memory.py:38: DeprecationWarning: This function is deprecated. Please call randint(1, 27 + 1) instead\n",
      "  batch_idxs = np.random.random_integers(low, high - 1, size=size)\n",
      "c:\\GitHub\\Nachzeichner-KI\\env\\lib\\site-packages\\rl\\memory.py:38: DeprecationWarning: This function is deprecated. Please call randint(1, 28 + 1) instead\n",
      "  batch_idxs = np.random.random_integers(low, high - 1, size=size)\n",
      "c:\\GitHub\\Nachzeichner-KI\\env\\lib\\site-packages\\rl\\memory.py:38: DeprecationWarning: This function is deprecated. Please call randint(1, 29 + 1) instead\n",
      "  batch_idxs = np.random.random_integers(low, high - 1, size=size)\n"
     ]
    },
    {
     "name": "stdout",
     "output_type": "stream",
     "text": [
      "   43/10000 [..............................] - ETA: 4:10 - reward: 1.0000"
     ]
    },
    {
     "name": "stderr",
     "output_type": "stream",
     "text": [
      "c:\\GitHub\\Nachzeichner-KI\\env\\lib\\site-packages\\rl\\memory.py:38: DeprecationWarning: This function is deprecated. Please call randint(1, 30 + 1) instead\n",
      "  batch_idxs = np.random.random_integers(low, high - 1, size=size)\n",
      "c:\\GitHub\\Nachzeichner-KI\\env\\lib\\site-packages\\rl\\memory.py:38: DeprecationWarning: This function is deprecated. Please call randint(1, 31 + 1) instead\n",
      "  batch_idxs = np.random.random_integers(low, high - 1, size=size)\n"
     ]
    },
    {
     "name": "stdout",
     "output_type": "stream",
     "text": [
      "  997/10000 [=>............................] - ETA: 1:57 - reward: 1.0000done, took 13.150 seconds\n"
     ]
    },
    {
     "data": {
      "text/plain": [
       "<keras.callbacks.History at 0x272e52b38b0>"
      ]
     },
     "execution_count": 32,
     "metadata": {},
     "output_type": "execute_result"
    }
   ],
   "source": [
    "dqn = build_agent(model, actions)\n",
    "dqn.compile(Adam(lr=1e-3), metrics=[\"mae\"])\n",
    "dqn.fit(env, nb_steps=1000, visualize=False, verbose = 1)"
   ]
  },
  {
   "cell_type": "code",
   "execution_count": 33,
   "metadata": {},
   "outputs": [
    {
     "name": "stdout",
     "output_type": "stream",
     "text": [
      "Testing for 100 episodes ...\n",
      "Episode 1: reward: 200.000, steps: 200\n",
      "Episode 2: reward: 175.000, steps: 175\n",
      "Episode 3: reward: 155.000, steps: 155\n",
      "Episode 4: reward: 171.000, steps: 171\n",
      "Episode 5: reward: 175.000, steps: 175\n",
      "Episode 6: reward: 169.000, steps: 169\n",
      "Episode 7: reward: 166.000, steps: 166\n",
      "Episode 8: reward: 165.000, steps: 165\n",
      "Episode 9: reward: 183.000, steps: 183\n",
      "Episode 10: reward: 194.000, steps: 194\n",
      "Episode 11: reward: 197.000, steps: 197\n",
      "Episode 12: reward: 200.000, steps: 200\n",
      "Episode 13: reward: 185.000, steps: 185\n",
      "Episode 14: reward: 200.000, steps: 200\n",
      "Episode 15: reward: 164.000, steps: 164\n",
      "Episode 16: reward: 186.000, steps: 186\n",
      "Episode 17: reward: 200.000, steps: 200\n",
      "Episode 18: reward: 178.000, steps: 178\n",
      "Episode 19: reward: 200.000, steps: 200\n",
      "Episode 20: reward: 200.000, steps: 200\n",
      "Episode 21: reward: 157.000, steps: 157\n",
      "Episode 22: reward: 161.000, steps: 161\n",
      "Episode 23: reward: 198.000, steps: 198\n",
      "Episode 24: reward: 179.000, steps: 179\n",
      "Episode 25: reward: 167.000, steps: 167\n",
      "Episode 26: reward: 166.000, steps: 166\n",
      "Episode 27: reward: 200.000, steps: 200\n",
      "Episode 28: reward: 177.000, steps: 177\n",
      "Episode 29: reward: 180.000, steps: 180\n",
      "Episode 30: reward: 200.000, steps: 200\n",
      "Episode 31: reward: 200.000, steps: 200\n",
      "Episode 32: reward: 200.000, steps: 200\n",
      "Episode 33: reward: 197.000, steps: 197\n",
      "Episode 34: reward: 155.000, steps: 155\n",
      "Episode 35: reward: 200.000, steps: 200\n",
      "Episode 36: reward: 157.000, steps: 157\n",
      "Episode 37: reward: 190.000, steps: 190\n",
      "Episode 38: reward: 200.000, steps: 200\n",
      "Episode 39: reward: 193.000, steps: 193\n",
      "Episode 40: reward: 193.000, steps: 193\n",
      "Episode 41: reward: 162.000, steps: 162\n",
      "Episode 42: reward: 200.000, steps: 200\n",
      "Episode 43: reward: 182.000, steps: 182\n",
      "Episode 44: reward: 157.000, steps: 157\n",
      "Episode 45: reward: 200.000, steps: 200\n",
      "Episode 46: reward: 200.000, steps: 200\n",
      "Episode 47: reward: 167.000, steps: 167\n",
      "Episode 48: reward: 177.000, steps: 177\n",
      "Episode 49: reward: 194.000, steps: 194\n",
      "Episode 50: reward: 200.000, steps: 200\n",
      "Episode 51: reward: 188.000, steps: 188\n",
      "Episode 52: reward: 156.000, steps: 156\n",
      "Episode 53: reward: 200.000, steps: 200\n",
      "Episode 54: reward: 200.000, steps: 200\n",
      "Episode 55: reward: 188.000, steps: 188\n",
      "Episode 56: reward: 200.000, steps: 200\n",
      "Episode 57: reward: 163.000, steps: 163\n",
      "Episode 58: reward: 200.000, steps: 200\n",
      "Episode 59: reward: 174.000, steps: 174\n",
      "Episode 60: reward: 177.000, steps: 177\n",
      "Episode 61: reward: 160.000, steps: 160\n",
      "Episode 62: reward: 190.000, steps: 190\n",
      "Episode 63: reward: 181.000, steps: 181\n",
      "Episode 64: reward: 147.000, steps: 147\n",
      "Episode 65: reward: 196.000, steps: 196\n",
      "Episode 66: reward: 159.000, steps: 159\n",
      "Episode 67: reward: 200.000, steps: 200\n",
      "Episode 68: reward: 199.000, steps: 199\n",
      "Episode 69: reward: 200.000, steps: 200\n",
      "Episode 70: reward: 200.000, steps: 200\n",
      "Episode 71: reward: 166.000, steps: 166\n",
      "Episode 72: reward: 200.000, steps: 200\n",
      "Episode 73: reward: 200.000, steps: 200\n",
      "Episode 74: reward: 200.000, steps: 200\n",
      "Episode 75: reward: 174.000, steps: 174\n",
      "Episode 76: reward: 179.000, steps: 179\n",
      "Episode 77: reward: 154.000, steps: 154\n",
      "Episode 78: reward: 184.000, steps: 184\n",
      "Episode 79: reward: 175.000, steps: 175\n",
      "Episode 80: reward: 174.000, steps: 174\n",
      "Episode 81: reward: 200.000, steps: 200\n",
      "Episode 82: reward: 200.000, steps: 200\n",
      "Episode 83: reward: 148.000, steps: 148\n",
      "Episode 84: reward: 200.000, steps: 200\n",
      "Episode 85: reward: 190.000, steps: 190\n",
      "Episode 86: reward: 200.000, steps: 200\n",
      "Episode 87: reward: 200.000, steps: 200\n",
      "Episode 88: reward: 200.000, steps: 200\n",
      "Episode 89: reward: 166.000, steps: 166\n",
      "Episode 90: reward: 179.000, steps: 179\n",
      "Episode 91: reward: 179.000, steps: 179\n",
      "Episode 92: reward: 200.000, steps: 200\n",
      "Episode 93: reward: 163.000, steps: 163\n",
      "Episode 94: reward: 166.000, steps: 166\n",
      "Episode 95: reward: 170.000, steps: 170\n",
      "Episode 96: reward: 200.000, steps: 200\n",
      "Episode 97: reward: 174.000, steps: 174\n",
      "Episode 98: reward: 173.000, steps: 173\n",
      "Episode 99: reward: 170.000, steps: 170\n",
      "Episode 100: reward: 193.000, steps: 193\n",
      "183.27\n"
     ]
    }
   ],
   "source": [
    "scores = dqn.test(env, nb_episodes=100, visualize=False)\n",
    "print(np.mean(scores.history[\"episode_reward\"]))"
   ]
  },
  {
   "cell_type": "code",
   "execution_count": 35,
   "metadata": {},
   "outputs": [
    {
     "name": "stdout",
     "output_type": "stream",
     "text": [
      "Testing for 1 episodes ...\n",
      "Episode 1: reward: 157.000, steps: 157\n"
     ]
    }
   ],
   "source": [
    "_ = dqn.test(env, nb_episodes=1, visualize=True)"
   ]
  },
  {
   "cell_type": "code",
   "execution_count": null,
   "metadata": {},
   "outputs": [],
   "source": []
  }
 ],
 "metadata": {
  "interpreter": {
   "hash": "291d700669bd43c54f0c30a4fcf2f5d664ab06a34b2f6283f605dda78815dbcc"
  },
  "kernelspec": {
   "display_name": "Python 3.9.5 ('env': venv)",
   "language": "python",
   "name": "python3"
  },
  "language_info": {
   "codemirror_mode": {
    "name": "ipython",
    "version": 3
   },
   "file_extension": ".py",
   "mimetype": "text/x-python",
   "name": "python",
   "nbconvert_exporter": "python",
   "pygments_lexer": "ipython3",
   "version": "3.9.5"
  },
  "orig_nbformat": 4
 },
 "nbformat": 4,
 "nbformat_minor": 2
}
