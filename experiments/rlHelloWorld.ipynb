{
 "cells": [
  {
   "cell_type": "markdown",
   "metadata": {},
   "source": [
    "YT Vid: https://www.youtube.com/watch?v=cO5g5qLrLSo"
   ]
  },
  {
   "cell_type": "markdown",
   "metadata": {},
   "source": [
    "# Import Libs"
   ]
  },
  {
   "cell_type": "code",
   "execution_count": 2,
   "metadata": {},
   "outputs": [],
   "source": [
    "import random\n",
    "import gym"
   ]
  },
  {
   "cell_type": "code",
   "execution_count": 3,
   "metadata": {},
   "outputs": [
    {
     "name": "stderr",
     "output_type": "stream",
     "text": [
      "c:\\GitHub\\Nachzeichner-KI\\env\\lib\\site-packages\\gym\\envs\\registration.py:505: UserWarning: \u001b[33mWARN: The environment CartPole-v0 is out of date. You should consider upgrading to version `v1` with the environment ID `CartPole-v1`.\u001b[0m\n",
      "  logger.warn(\n"
     ]
    }
   ],
   "source": [
    "env = gym.make(\"CartPole-v0\")\n",
    "states = env.observation_space.shape[0]\n",
    "actions = env.action_space.n"
   ]
  },
  {
   "cell_type": "code",
   "execution_count": 4,
   "metadata": {},
   "outputs": [
    {
     "data": {
      "text/plain": [
       "4"
      ]
     },
     "execution_count": 4,
     "metadata": {},
     "output_type": "execute_result"
    }
   ],
   "source": [
    "states"
   ]
  },
  {
   "cell_type": "code",
   "execution_count": 5,
   "metadata": {},
   "outputs": [
    {
     "data": {
      "text/plain": [
       "2"
      ]
     },
     "execution_count": 5,
     "metadata": {},
     "output_type": "execute_result"
    }
   ],
   "source": [
    "actions"
   ]
  },
  {
   "cell_type": "markdown",
   "metadata": {},
   "source": [
    "### Random actions"
   ]
  },
  {
   "cell_type": "code",
   "execution_count": 6,
   "metadata": {},
   "outputs": [
    {
     "name": "stdout",
     "output_type": "stream",
     "text": [
      "Episode 1 Score: 23.0\n",
      "Episode 2 Score: 27.0\n",
      "Episode 3 Score: 23.0\n",
      "Episode 4 Score: 10.0\n",
      "Episode 5 Score: 15.0\n",
      "Episode 6 Score: 29.0\n",
      "Episode 7 Score: 39.0\n",
      "Episode 8 Score: 10.0\n",
      "Episode 9 Score: 15.0\n",
      "Episode 10 Score: 29.0\n"
     ]
    }
   ],
   "source": [
    "episodes = 10\n",
    "for episode in range(1, episodes+1):\n",
    "    state = env.reset()\n",
    "    done = False\n",
    "    score = 0\n",
    "    \n",
    "    while not done:\n",
    "        env.render()\n",
    "        action = random.choice([0, 1])\n",
    "        n_state, reward, done, info = env.step(action)\n",
    "        score += reward\n",
    "    print(f\"Episode {episode} Score: {score}\")"
   ]
  },
  {
   "cell_type": "markdown",
   "metadata": {},
   "source": [
    "## Deep Learning Model"
   ]
  },
  {
   "cell_type": "code",
   "execution_count": 6,
   "metadata": {},
   "outputs": [],
   "source": [
    "import numpy as np\n",
    "from tensorflow.keras.models import Sequential\n",
    "from tensorflow.keras.layers import Dense, Flatten\n",
    "from tensorflow.keras.optimizers import Adam"
   ]
  },
  {
   "cell_type": "code",
   "execution_count": 14,
   "metadata": {},
   "outputs": [],
   "source": [
    "def build_model(states, actions):\n",
    "    model = Sequential()\n",
    "    model.add(Flatten(input_shape=(1,states)))\n",
    "    model.add(Dense(24, activation=\"relu\"))\n",
    "    model.add(Dense(24, activation=\"relu\"))\n",
    "    model.add(Dense(actions, activation=\"linear\"))\n",
    "    return model"
   ]
  },
  {
   "cell_type": "code",
   "execution_count": 15,
   "metadata": {},
   "outputs": [],
   "source": [
    "model = build_model(states, actions)"
   ]
  },
  {
   "cell_type": "code",
   "execution_count": 16,
   "metadata": {},
   "outputs": [
    {
     "name": "stdout",
     "output_type": "stream",
     "text": [
      "Model: \"sequential_1\"\n",
      "_________________________________________________________________\n",
      " Layer (type)                Output Shape              Param #   \n",
      "=================================================================\n",
      " flatten_1 (Flatten)         (None, 4)                 0         \n",
      "                                                                 \n",
      " dense_3 (Dense)             (None, 24)                120       \n",
      "                                                                 \n",
      " dense_4 (Dense)             (None, 24)                600       \n",
      "                                                                 \n",
      " dense_5 (Dense)             (None, 2)                 50        \n",
      "                                                                 \n",
      "=================================================================\n",
      "Total params: 770\n",
      "Trainable params: 770\n",
      "Non-trainable params: 0\n",
      "_________________________________________________________________\n"
     ]
    }
   ],
   "source": [
    "model.summary()"
   ]
  },
  {
   "cell_type": "markdown",
   "metadata": {},
   "source": [
    "## Reinforcementlearning agent"
   ]
  },
  {
   "cell_type": "code",
   "execution_count": 17,
   "metadata": {},
   "outputs": [],
   "source": [
    "from rl.agents import DQNAgent\n",
    "from rl.policy import BoltzmannQPolicy\n",
    "from rl.memory import SequentialMemory"
   ]
  },
  {
   "cell_type": "code",
   "execution_count": 21,
   "metadata": {},
   "outputs": [],
   "source": [
    "def build_agent(model, actions):\n",
    "    policy = BoltzmannQPolicy()\n",
    "    memory = SequentialMemory(limit=1000, window_length=1)\n",
    "    dqn = DQNAgent(model=model, memory=memory, policy=policy, nb_actions=actions, nb_steps_warmup=10, target_model_update=1e-2)\n",
    "    \n",
    "    return dqn"
   ]
  },
  {
   "cell_type": "code",
   "execution_count": 22,
   "metadata": {},
   "outputs": [
    {
     "name": "stdout",
     "output_type": "stream",
     "text": [
      "Training for 1000 steps ...\n",
      "Interval 1 (0 steps performed)\n",
      "  999/10000 [=>............................] - ETA: 2:05 - reward: 1.0000done, took 14.056 seconds\n"
     ]
    },
    {
     "data": {
      "text/plain": [
       "<keras.callbacks.History at 0x272dda77910>"
      ]
     },
     "execution_count": 22,
     "metadata": {},
     "output_type": "execute_result"
    }
   ],
   "source": [
    "dqn = build_agent(model, actions)\n",
    "dqn.compile(Adam(lr=1e-3), metrics=[\"mae\"])\n",
    "dqn.fit(env, nb_steps=1000, visualize=False, verbose = 1)"
   ]
  },
  {
   "cell_type": "code",
   "execution_count": 23,
   "metadata": {},
   "outputs": [
    {
     "name": "stdout",
     "output_type": "stream",
     "text": [
      "Testing for 100 episodes ...\n",
      "Episode 1: reward: 164.000, steps: 164\n",
      "Episode 2: reward: 175.000, steps: 175\n",
      "Episode 3: reward: 142.000, steps: 142\n",
      "Episode 4: reward: 200.000, steps: 200\n",
      "Episode 5: reward: 150.000, steps: 150\n",
      "Episode 6: reward: 161.000, steps: 161\n",
      "Episode 7: reward: 155.000, steps: 155\n",
      "Episode 8: reward: 148.000, steps: 148\n",
      "Episode 9: reward: 152.000, steps: 152\n",
      "Episode 10: reward: 200.000, steps: 200\n",
      "Episode 11: reward: 144.000, steps: 144\n",
      "Episode 12: reward: 134.000, steps: 134\n",
      "Episode 13: reward: 148.000, steps: 148\n",
      "Episode 14: reward: 172.000, steps: 172\n",
      "Episode 15: reward: 150.000, steps: 150\n",
      "Episode 16: reward: 152.000, steps: 152\n",
      "Episode 17: reward: 150.000, steps: 150\n",
      "Episode 18: reward: 154.000, steps: 154\n",
      "Episode 19: reward: 156.000, steps: 156\n",
      "Episode 20: reward: 194.000, steps: 194\n",
      "Episode 21: reward: 145.000, steps: 145\n",
      "Episode 22: reward: 200.000, steps: 200\n",
      "Episode 23: reward: 137.000, steps: 137\n",
      "Episode 24: reward: 166.000, steps: 166\n",
      "Episode 25: reward: 136.000, steps: 136\n",
      "Episode 26: reward: 199.000, steps: 199\n",
      "Episode 27: reward: 145.000, steps: 145\n",
      "Episode 28: reward: 200.000, steps: 200\n",
      "Episode 29: reward: 141.000, steps: 141\n",
      "Episode 30: reward: 155.000, steps: 155\n",
      "Episode 31: reward: 138.000, steps: 138\n",
      "Episode 32: reward: 179.000, steps: 179\n",
      "Episode 33: reward: 150.000, steps: 150\n",
      "Episode 34: reward: 200.000, steps: 200\n",
      "Episode 35: reward: 152.000, steps: 152\n",
      "Episode 36: reward: 154.000, steps: 154\n",
      "Episode 37: reward: 176.000, steps: 176\n",
      "Episode 38: reward: 165.000, steps: 165\n",
      "Episode 39: reward: 156.000, steps: 156\n",
      "Episode 40: reward: 200.000, steps: 200\n",
      "Episode 41: reward: 200.000, steps: 200\n",
      "Episode 42: reward: 200.000, steps: 200\n",
      "Episode 43: reward: 148.000, steps: 148\n",
      "Episode 44: reward: 200.000, steps: 200\n",
      "Episode 45: reward: 200.000, steps: 200\n",
      "Episode 46: reward: 138.000, steps: 138\n",
      "Episode 47: reward: 200.000, steps: 200\n",
      "Episode 48: reward: 146.000, steps: 146\n",
      "Episode 49: reward: 185.000, steps: 185\n",
      "Episode 50: reward: 142.000, steps: 142\n",
      "Episode 51: reward: 139.000, steps: 139\n",
      "Episode 52: reward: 138.000, steps: 138\n",
      "Episode 53: reward: 160.000, steps: 160\n",
      "Episode 54: reward: 190.000, steps: 190\n",
      "Episode 55: reward: 172.000, steps: 172\n",
      "Episode 56: reward: 198.000, steps: 198\n",
      "Episode 57: reward: 151.000, steps: 151\n",
      "Episode 58: reward: 190.000, steps: 190\n",
      "Episode 59: reward: 144.000, steps: 144\n",
      "Episode 60: reward: 200.000, steps: 200\n",
      "Episode 61: reward: 145.000, steps: 145\n",
      "Episode 62: reward: 174.000, steps: 174\n",
      "Episode 63: reward: 160.000, steps: 160\n",
      "Episode 64: reward: 151.000, steps: 151\n",
      "Episode 65: reward: 158.000, steps: 158\n",
      "Episode 66: reward: 147.000, steps: 147\n",
      "Episode 67: reward: 155.000, steps: 155\n",
      "Episode 68: reward: 155.000, steps: 155\n",
      "Episode 69: reward: 151.000, steps: 151\n",
      "Episode 70: reward: 191.000, steps: 191\n",
      "Episode 71: reward: 152.000, steps: 152\n",
      "Episode 72: reward: 200.000, steps: 200\n",
      "Episode 73: reward: 144.000, steps: 144\n",
      "Episode 74: reward: 130.000, steps: 130\n",
      "Episode 75: reward: 133.000, steps: 133\n",
      "Episode 76: reward: 133.000, steps: 133\n",
      "Episode 77: reward: 158.000, steps: 158\n",
      "Episode 78: reward: 174.000, steps: 174\n",
      "Episode 79: reward: 155.000, steps: 155\n",
      "Episode 80: reward: 142.000, steps: 142\n",
      "Episode 81: reward: 141.000, steps: 141\n",
      "Episode 82: reward: 163.000, steps: 163\n",
      "Episode 83: reward: 139.000, steps: 139\n",
      "Episode 84: reward: 178.000, steps: 178\n",
      "Episode 85: reward: 148.000, steps: 148\n",
      "Episode 86: reward: 200.000, steps: 200\n",
      "Episode 87: reward: 148.000, steps: 148\n",
      "Episode 88: reward: 139.000, steps: 139\n",
      "Episode 89: reward: 150.000, steps: 150\n",
      "Episode 90: reward: 145.000, steps: 145\n",
      "Episode 91: reward: 191.000, steps: 191\n",
      "Episode 92: reward: 195.000, steps: 195\n",
      "Episode 93: reward: 172.000, steps: 172\n",
      "Episode 94: reward: 166.000, steps: 166\n",
      "Episode 95: reward: 152.000, steps: 152\n",
      "Episode 96: reward: 162.000, steps: 162\n",
      "Episode 97: reward: 147.000, steps: 147\n",
      "Episode 98: reward: 135.000, steps: 135\n",
      "Episode 99: reward: 142.000, steps: 142\n",
      "Episode 100: reward: 164.000, steps: 164\n",
      "162.21\n"
     ]
    }
   ],
   "source": [
    "scores = dqn.test(env, nb_episodes=100, visualize=False)\n",
    "print(np.mean(scores.history[\"episode_reward\"]))"
   ]
  },
  {
   "cell_type": "code",
   "execution_count": 28,
   "metadata": {},
   "outputs": [
    {
     "name": "stdout",
     "output_type": "stream",
     "text": [
      "Testing for 1 episodes ...\n",
      "Episode 1: reward: 200.000, steps: 200\n"
     ]
    }
   ],
   "source": [
    "_ = dqn.test(env, nb_episodes=1, visualize=True)"
   ]
  },
  {
   "cell_type": "code",
   "execution_count": null,
   "metadata": {},
   "outputs": [],
   "source": []
  }
 ],
 "metadata": {
  "interpreter": {
   "hash": "291d700669bd43c54f0c30a4fcf2f5d664ab06a34b2f6283f605dda78815dbcc"
  },
  "kernelspec": {
   "display_name": "Python 3.9.5 ('env': venv)",
   "language": "python",
   "name": "python3"
  },
  "language_info": {
   "codemirror_mode": {
    "name": "ipython",
    "version": 3
   },
   "file_extension": ".py",
   "mimetype": "text/x-python",
   "name": "python",
   "nbconvert_exporter": "python",
   "pygments_lexer": "ipython3",
   "version": "3.9.5"
  },
  "orig_nbformat": 4
 },
 "nbformat": 4,
 "nbformat_minor": 2
}
